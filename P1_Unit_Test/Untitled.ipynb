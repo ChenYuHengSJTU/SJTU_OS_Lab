{
 "cells": [
  {
   "cell_type": "code",
   "execution_count": null,
   "id": "3ff2cee6",
   "metadata": {},
   "outputs": [
    {
     "name": "stdout",
     "output_type": "stream",
     "text": [
      "listen from client\n",
      "preparing for another client\n",
      "     34      34     300\n",
      "send error: Broken pipe\n",
      "loop end\n",
      "listen from client\n",
      "preparing for another client\n"
     ]
    }
   ],
   "source": [
    "!./shell 8800"
   ]
  },
  {
   "cell_type": "code",
   "execution_count": 9,
   "id": "ff56dbcf",
   "metadata": {},
   "outputs": [
    {
     "name": "stdout",
     "output_type": "stream",
     "text": [
      "Trying 127.0.0.1...\r\n",
      "telnet: Unable to connect to remote host: Connection refused\r\n"
     ]
    }
   ],
   "source": [
    "!echo \"ls | wc\" | telnet localhost 8800"
   ]
  },
  {
   "cell_type": "code",
   "execution_count": 10,
   "id": "e2364d57",
   "metadata": {},
   "outputs": [
    {
     "name": "stdout",
     "output_type": "stream",
     "text": [
      "client.ipynb  shell10.c  shell2    shell5    shell8.c\t       test.c\r\n",
      "client.txt    shell11\t shell2.c  shell5.c  shell9\t       test.txt\r\n",
      "P1\t      shell11.c  shell3    shell6    shell9.c\t       Untitled.ipynb\r\n",
      "r.sh\t      shell12\t shell3.c  shell6.c  shell.c\r\n",
      "shell\t      shell12.c  shell4    shell7.c  shell-show.ipynb\r\n",
      "shell10       shell13.c  shell4.c  shell8    test\r\n"
     ]
    }
   ],
   "source": [
    "!ls"
   ]
  },
  {
   "cell_type": "code",
   "execution_count": null,
   "id": "747a9195",
   "metadata": {},
   "outputs": [],
   "source": []
  }
 ],
 "metadata": {
  "kernelspec": {
   "display_name": "Python 3 (ipykernel)",
   "language": "python",
   "name": "python3"
  },
  "language_info": {
   "codemirror_mode": {
    "name": "ipython",
    "version": 3
   },
   "file_extension": ".py",
   "mimetype": "text/x-python",
   "name": "python",
   "nbconvert_exporter": "python",
   "pygments_lexer": "ipython3",
   "version": "3.8.10"
  }
 },
 "nbformat": 4,
 "nbformat_minor": 5
}

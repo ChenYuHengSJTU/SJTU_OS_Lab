{
 "cells": [
  {
   "cell_type": "markdown",
   "metadata": {
    "slideshow": {
     "slide_type": "slide"
    },
    "tags": []
   },
   "source": [
    "### 组织为一系列头文件/源文件/测试文件\n"
   ]
  },
  {
   "cell_type": "markdown",
   "metadata": {
    "slideshow": {
     "slide_type": "subslide"
    },
    "tags": []
   },
   "source": [
    "+ 一些返回值处理\n",
    "+ TODO处理\n",
    "+ 检查数值的处理\n",
    "+ 调整目录中的条目\n",
    "+ 修改prompt\n",
    "+ 增加attribute\n",
    "+ 出现了接口不一致的情况（应该用write 或 read block来替代memcpy\n",
    "+ 解决了inode覆写的问题\n",
    "+ 目录需要被递归删除\n",
    "+ 已经完成内存检测\n",
    "+ 文件系统日志\n",
    "+ 解决tmp/tmp的重名问题\n",
    "+ 压力测试\n",
    "+ fs.log\n",
    "+ 资源回收\n",
    "+ bitmap\n",
    "+ 修复 . 和 .. 的名称问题\n",
    "+ 将两部分合并时需要考虑API接口以及fs中memcpy的部分，需要统一更改为R/W block\n",
    "+ 调整接口\n",
    "   + 注意fs本地不可以存储任何指针变量\n",
    "   + 尝试将disk去掉，一改全改\n",
    "+ 树状数组实现bitmap\n",
    "+ 对于同名文件和文件夹的检测\n",
    "+ 调整传输文件的大小\n",
    "+ 调整 ls 的行为\n",
    "+ client.c\n",
    "+ findentry should add an argument indicate file or dir"
   ]
  },
  {
   "cell_type": "code",
   "execution_count": null,
   "metadata": {},
   "outputs": [],
   "source": [
    "# disk\n"
   ]
  },
  {
   "cell_type": "code",
   "execution_count": 23,
   "metadata": {},
   "outputs": [
    {
     "name": "stdout",
     "output_type": "stream",
     "text": [
      "/home/cyh627/SJTU/Sophomore_2/OS/Course_Design/SJTU_OS_Lab/P3_Unit_Test\n",
      "make: *** 没有指明目标并且找不到 makefile。 停止。\n",
      "/home/cyh627/SJTU/Sophomore_2/OS/Course_Design/SJTU_OS_Lab/P3_Unit_Test\n",
      "make: *** 没有规则可制作目标“clean”。 停止。\n",
      "make: *** 没有指明目标并且找不到 makefile。 停止。\n"
     ]
    }
   ],
   "source": [
    "# fs\n",
    "!cd /home/cyh627/SJTU/Sophomore_2/OS/Course_Design/SJTU_OS_Lab/P3_Unit_Test/step2/ & pwd & make \n",
    "!pwd\n",
    "!make clean \n",
    "!make "
   ]
  }
 ],
 "metadata": {
  "kernelspec": {
   "display_name": "Python 3 (ipykernel)",
   "language": "python",
   "name": "python3"
  },
  "language_info": {
   "codemirror_mode": {
    "name": "ipython",
    "version": 3
   },
   "file_extension": ".py",
   "mimetype": "text/x-python",
   "name": "python",
   "nbconvert_exporter": "python",
   "pygments_lexer": "ipython3",
   "version": "3.10.6"
  }
 },
 "nbformat": 4,
 "nbformat_minor": 4
}

{
 "cells": [
  {
   "attachments": {},
   "cell_type": "markdown",
   "metadata": {},
   "source": [
    "### 组织为一系列头文件/源文件/测试文件\n"
   ]
  },
  {
   "attachments": {},
   "cell_type": "markdown",
   "metadata": {},
   "source": [
    "+ 一些返回值处理\n",
    "+ TODO处理\n",
    "+ 检查数值的处理\n",
    "+ 调整目录中的条目\n",
    "+ 修爱prompt\n",
    "+ 增加attribute\n",
    "+ 出现了接口不一致的情况（应该用write 或 read block来替代memcpy\n",
    "+ 解决了inode覆写的问题"
   ]
  },
  {
   "cell_type": "code",
   "execution_count": null,
   "metadata": {},
   "outputs": [],
   "source": [
    "# disk\n"
   ]
  },
  {
   "cell_type": "code",
   "execution_count": 23,
   "metadata": {},
   "outputs": [
    {
     "name": "stdout",
     "output_type": "stream",
     "text": [
      "/home/cyh627/SJTU/Sophomore_2/OS/Course_Design/SJTU_OS_Lab/P3_Unit_Test\n",
      "make: *** 没有指明目标并且找不到 makefile。 停止。\n",
      "/home/cyh627/SJTU/Sophomore_2/OS/Course_Design/SJTU_OS_Lab/P3_Unit_Test\n",
      "make: *** 没有规则可制作目标“clean”。 停止。\n",
      "make: *** 没有指明目标并且找不到 makefile。 停止。\n"
     ]
    }
   ],
   "source": [
    "# fs\n",
    "!cd /home/cyh627/SJTU/Sophomore_2/OS/Course_Design/SJTU_OS_Lab/P3_Unit_Test/step2/ & pwd & make \n",
    "!pwd\n",
    "!make clean \n",
    "!make "
   ]
  }
 ],
 "metadata": {
  "kernelspec": {
   "display_name": "Python 3",
   "language": "python",
   "name": "python3"
  },
  "language_info": {
   "codemirror_mode": {
    "name": "ipython",
    "version": 3
   },
   "file_extension": ".py",
   "mimetype": "text/x-python",
   "name": "python",
   "nbconvert_exporter": "python",
   "pygments_lexer": "ipython3",
   "version": "3.10.6"
  },
  "orig_nbformat": 4
 },
 "nbformat": 4,
 "nbformat_minor": 2
}

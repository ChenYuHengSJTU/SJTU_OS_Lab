{
 "cells": [
  {
   "attachments": {},
   "cell_type": "markdown",
   "metadata": {},
   "source": [
    "# <font color=\"skyblue\"> Make </font> "
   ]
  },
  {
   "cell_type": "code",
   "execution_count": 10,
   "metadata": {},
   "outputs": [
    {
     "name": "stdout",
     "output_type": "stream",
     "text": [
      "gcc -O2 -g -Werror LarryCurlyMoe.c -o LCM -lpthread\n",
      "gcc -O2 -g -Werror Faneuil.c -o Faneuil -lpthread\n"
     ]
    }
   ],
   "source": [
    "!make"
   ]
  },
  {
   "cell_type": "code",
   "execution_count": 11,
   "metadata": {},
   "outputs": [
    {
     "name": "stdout",
     "output_type": "stream",
     "text": [
      "rm -rf LCM Faneuil\n"
     ]
    }
   ],
   "source": [
    "!make clean"
   ]
  },
  {
   "attachments": {},
   "cell_type": "markdown",
   "metadata": {},
   "source": [
    "## <font color='SkyBlue'> Task:LCM </font>\n",
    "#### Make and Run"
   ]
  },
  {
   "cell_type": "code",
   "execution_count": 4,
   "metadata": {},
   "outputs": [],
   "source": [
    "!gcc -O2 -g -w LarryCurlyMoe.c -o LCM -lpthread"
   ]
  },
  {
   "cell_type": "code",
   "execution_count": null,
   "metadata": {},
   "outputs": [],
   "source": [
    "!./LCM 10"
   ]
  },
  {
   "attachments": {},
   "cell_type": "markdown",
   "metadata": {},
   "source": [
    "##### Invalid input"
   ]
  },
  {
   "cell_type": "code",
   "execution_count": 2,
   "metadata": {},
   "outputs": [
    {
     "name": "stdout",
     "output_type": "stream",
     "text": [
      "Too few arguments\n",
      "Usage: ./LCM n\n"
     ]
    }
   ],
   "source": [
    "!./LCM"
   ]
  },
  {
   "cell_type": "code",
   "execution_count": 3,
   "metadata": {},
   "outputs": [
    {
     "name": "stdout",
     "output_type": "stream",
     "text": [
      "Too many arguments\n",
      "Usage: ./LCM n\n"
     ]
    }
   ],
   "source": [
    "!./LCM 10 20 abc"
   ]
  },
  {
   "attachments": {},
   "cell_type": "markdown",
   "metadata": {},
   "source": [
    "##### Output too much, just get a glance of it"
   ]
  },
  {
   "cell_type": "code",
   "execution_count": 37,
   "metadata": {},
   "outputs": [
    {
     "name": "stdout",
     "output_type": "stream",
     "text": [
      "Larry digs another hole #1\n",
      "Moe plants a seed in hole#1\n",
      "Curly fills another hole#1\n",
      "Larry digs another hole #2\n",
      "Moe plants a seed in hole#2\n",
      "Larry digs another hole #3\n",
      "Larry digs another hole #4\n",
      "Moe plants a seed in hole#3\n",
      "Curly fills another hole#2\n",
      "Curly fills another hole#3\n",
      "Moe plants a seed in hole#4\n",
      "Curly fills another hole#4\n",
      "Larry digs another hole #5\n",
      "Moe plants a seed in hole#5\n",
      "Curly fills another hole#5\n",
      "Larry digs another hole #6\n",
      "Larry digs another hole #7\n",
      "Larry digs another hole #8\n",
      "Moe plants a seed in hole#6\n",
      "Moe plants a seed in hole#7\n",
      "Curly fills another hole#6\n",
      "Moe plants a seed in hole#8\n",
      "Curly fills another hole#7\n",
      "Curly fills another hole#8\n",
      "Larry digs another hole #9\n",
      "Moe plants a seed in hole#9\n",
      "Curly fills another hole#9\n",
      "Larry digs another hole #10\n",
      "Moe plants a seed in hole#10\n",
      "Larry digs another hole #11\n",
      "Moe plants a seed in hole#11\n",
      "Curly fills another hole#10\n",
      "Larry digs another hole #12\n",
      "Larry digs another hole #13\n",
      "Curly fills another hole#11\n",
      "Moe plants a seed in hole#12\n",
      "Larry digs another hole #14\n",
      "Moe plants a seed in hole#13\n",
      "Moe plants a seed in hole#14\n",
      "Curly fills another hole#12\n",
      "Curly fills another hole#13\n",
      "Larry digs another hole #15\n",
      "Larry digs another hole #16\n",
      "Moe plants a seed in hole#15\n",
      "Moe plants a seed in hole#16\n",
      "Larry digs another hole #17\n",
      "Moe plants a seed in hole#17\n",
      "Larry digs another hole #18\n",
      "Curly fills another hole#14\n",
      "Moe plants a seed in hole#18\n",
      "^C\n"
     ]
    }
   ],
   "source": [
    "!./LCM 10 | head -n 50"
   ]
  },
  {
   "attachments": {},
   "cell_type": "markdown",
   "metadata": {},
   "source": [
    "#### Correctness Check\n",
    "+ I write a Python program to check whether the synchronization is correct or not"
   ]
  },
  {
   "cell_type": "code",
   "execution_count": 10,
   "metadata": {},
   "outputs": [
    {
     "name": "stdout",
     "output_type": "stream",
     "text": [
      "OK\n"
     ]
    }
   ],
   "source": [
    "#first arg is the same as the LCM, the second arg is the timelimit\n",
    "#if the output is right, it will put \"OK\"\n",
    "#otherwise, it will put an assertation failure\n",
    "!python3 test-LCM.py 10 2"
   ]
  },
  {
   "attachments": {},
   "cell_type": "markdown",
   "metadata": {},
   "source": [
    "## <font color='skyblue'>Task:Faneuil</font>\n",
    "#### Make and Run"
   ]
  },
  {
   "cell_type": "code",
   "execution_count": 6,
   "metadata": {},
   "outputs": [],
   "source": [
    "!gcc -O2 -g -w Faneuil.c -o Faneuil -lpthread"
   ]
  },
  {
   "cell_type": "code",
   "execution_count": null,
   "metadata": {},
   "outputs": [],
   "source": [
    "!./Faneuil"
   ]
  },
  {
   "attachments": {},
   "cell_type": "markdown",
   "metadata": {},
   "source": [
    "##### Invalid Input"
   ]
  },
  {
   "cell_type": "code",
   "execution_count": 7,
   "metadata": {},
   "outputs": [
    {
     "name": "stdout",
     "output_type": "stream",
     "text": [
      "Too many arguments\n",
      "Usage:./Faneuil\n"
     ]
    }
   ],
   "source": [
    "!./Faneuil 5"
   ]
  },
  {
   "attachments": {},
   "cell_type": "markdown",
   "metadata": {},
   "source": [
    "##### Output too much, get a glance of it"
   ]
  },
  {
   "cell_type": "code",
   "execution_count": 35,
   "metadata": {},
   "outputs": [
    {
     "name": "stdout",
     "output_type": "stream",
     "text": [
      "Immigrant #0 enter\n",
      "Immigrant #1 enter\n",
      "Immigrant #2 enter\n",
      "Immigrant #3 enter\n",
      "Immigrant #4 enter\n",
      "Judge #0 enter\n",
      "Immigrant #0 checkin\n",
      "Immigrant #1 checkin\n",
      "Immigrant #2 checkin\n",
      "Immigrant #1 sitdown\n",
      "Immigrant #1 swear\n",
      "Immigrant #3 checkin\n",
      "Immigrant #0 sitdown\n",
      "Immigrant #0 swear\n",
      "Immigrant #4 checkin\n",
      "Immigrant #3 sitdown\n",
      "Immigrant #3 swear\n",
      "Immigrant #2 sitdown\n",
      "Immigrant #2 swear\n",
      "Immigrant #4 sitdown\n",
      "Immigrant #4 swear\n",
      "Judge #0 confirm immigrant #0 #1 #2 #3 #4 \n",
      "Immigrant #0 get certificated\n",
      "Immigrant #2 get certificated\n",
      "Immigrant #3 get certificated\n",
      "Immigrant #1 get certificated\n",
      "Immigrant #4 get certificated\n",
      "Judge #0 leave\n",
      "Immigrant #0 leave\n",
      "Spectator #0 enter\n",
      "Immigrant #1 leave\n",
      "Spectator #1 enter\n",
      "Immigrant #2 leave\n",
      "Immigrant #3 leave\n",
      "Immigrant #5 enter\n",
      "Immigrant #6 enter\n",
      "Immigrant #7 enter\n",
      "Judge #1 enter\n",
      "Spectator #0 leave\n",
      "Spectator #1 leave\n",
      "Immigrant #7 checkin\n",
      "Immigrant #6 checkin\n",
      "Immigrant #5 checkin\n",
      "Immigrant #6 sitdown\n",
      "Immigrant #6 swear\n",
      "Immigrant #7 sitdown\n",
      "Immigrant #7 swear\n",
      "Immigrant #5 sitdown\n",
      "Immigrant #5 swear\n",
      "Judge #1 confirm immigrant #5 #6 #7 \n",
      "Immigrant #7 get certificated\n",
      "Immigrant #6 get certificated\n",
      "Judge #1 leave\n",
      "Immigrant #5 get certificated\n",
      "Immigrant #4 leave\n",
      "Immigrant #8 enter\n",
      "Immigrant #6 leave\n",
      "Spectator #3 enter\n",
      "Immigrant #7 leave\n",
      "Spectator #2 enter\n",
      "Immigrant #8 checkin\n",
      "Spectator #3 leave\n",
      "Immigrant #5 leave\n",
      "Judge #2 enter\n",
      "Spectator #2 leave\n",
      "Immigrant #8 sitdown\n",
      "Immigrant #8 swear\n",
      "Judge #2 confirm immigrant #8 \n",
      "Immigrant #8 get certificated\n",
      "Judge #2 leave\n",
      "Immigrant #11 enter\n",
      "Spectator #5 enter\n",
      "Immigrant #9 enter\n",
      "Judge #3 enter\n",
      "Immigrant #12 enter\n",
      "Immigrant #11 checkin\n",
      "Immigrant #9 checkin\n",
      "Spectator #5 leave\n",
      "Immigrant #11 sitdown\n",
      "Immigrant #11 swear\n",
      "Immigrant #12 checkin\n",
      "Immigrant #9 sitdown\n",
      "Immigrant #9 swear\n",
      "Immigrant #12 sitdown\n",
      "Immigrant #12 swear\n",
      "Judge #3 confirm immigrant #11 #9 #12 \n",
      "Immigrant #9 get certificated\n",
      "Immigrant #11 get certificated\n",
      "Immigrant #12 get certificated\n",
      "Judge #3 leave\n",
      "Immigrant #9 leave\n",
      "Immigrant #8 leave\n",
      "Spectator #4 enter\n",
      "Immigrant #11 leave\n",
      "Immigrant #10 enter\n",
      "Spectator #7 enter\n",
      "Immigrant #12 leave\n",
      "Spectator #4 leave\n",
      "Judge #4 enter\n",
      "Immigrant #10 checkin\n",
      "Spectator #7 leave\n",
      "Immigrant #10 sitdown\n",
      "Immigrant #10 swear\n",
      "Judge #4 confirm immigrant #10 \n",
      "Judge #4 leave\n",
      "Immigrant #10 get certificated\n",
      "Immigrant #17 enter\n",
      "Immigrant #14 enter\n",
      "Immigrant #16 enter\n",
      "Immigrant #13 enter\n",
      "Spectator #6 enter\n",
      "Immigrant #14 checkin\n",
      "Immigrant #16 checkin\n",
      "Immigrant #10 leave\n",
      "Spectator #9 enter\n",
      "Immigrant #17 checkin\n",
      "Judge #5 enter\n",
      "Spectator #6 leave\n",
      "Spectator #9 leave\n",
      "Immigrant #13 checkin\n",
      "Immigrant #16 sitdown\n",
      "Immigrant #16 swear\n",
      "Immigrant #14 sitdown\n",
      "Immigrant #14 swear\n",
      "Immigrant #17 sitdown\n",
      "Immigrant #17 swear\n",
      "Immigrant #13 sitdown\n",
      "Immigrant #13 swear\n",
      "Judge #5 confirm immigrant #17 #14 #16 #13 \n",
      "Immigrant #14 get certificated\n",
      "Immigrant #17 get certificated\n",
      "Immigrant #16 get certificated\n",
      "Immigrant #13 get certificated\n",
      "Judge #5 leave\n",
      "Immigrant #17 leave\n",
      "Immigrant #14 leave\n",
      "Immigrant #16 leave\n",
      "Immigrant #15 enter\n",
      "Spectator #8 enter\n",
      "Immigrant #13 leave\n",
      "Spectator #11 enter\n",
      "Immigrant #19 enter\n",
      "Immigrant #22 enter\n",
      "Judge #6 enter\n",
      "Immigrant #15 checkin\n",
      "Immigrant #22 checkin\n",
      "Immigrant #19 checkin\n",
      "Spectator #8 leave\n",
      "Spectator #11 leave\n",
      "Immigrant #15 sitdown\n",
      "Immigrant #15 swear\n",
      "Immigrant #19 sitdown\n",
      "Immigrant #19 swear\n",
      "Immigrant #22 sitdown\n",
      "Immigrant #22 swear\n",
      "Judge #6 confirm immigrant #15 #19 #22 \n",
      "Immigrant #15 get certificated\n",
      "Immigrant #19 get certificated\n",
      "Immigrant #22 get certificated\n",
      "Judge #6 leave\n",
      "Immigrant #15 leave\n",
      "Immigrant #21 enter\n",
      "Immigrant #18 enter\n",
      "Spectator #10 enter\n",
      "Immigrant #19 leave\n",
      "Spectator #13 enter\n",
      "Immigrant #20 enter\n",
      "Judge #7 enter\n",
      "Spectator #10 leave\n",
      "Immigrant #18 checkin\n",
      "Spectator #13 leave\n",
      "Immigrant #20 checkin\n",
      "Immigrant #21 checkin\n",
      "Immigrant #18 sitdown\n",
      "Immigrant #18 swear\n",
      "Immigrant #20 sitdown\n",
      "Immigrant #20 swear\n",
      "Immigrant #21 sitdown\n",
      "Immigrant #21 swear\n",
      "Judge #7 confirm immigrant #21 #18 #20 \n",
      "Immigrant #18 get certificated\n",
      "Immigrant #20 get certificated\n",
      "Immigrant #21 get certificated\n",
      "Judge #7 leave\n",
      "Immigrant #22 leave\n",
      "Immigrant #18 leave\n",
      "Spectator #12 enter\n",
      "Immigrant #24 enter\n",
      "Immigrant #20 leave\n",
      "Spectator #15 enter\n",
      "Judge #8 enter\n",
      "Immigrant #24 checkin\n",
      "Immigrant #24 sitdown\n",
      "Immigrant #24 swear\n",
      "Spectator #15 leave\n",
      "Spectator #12 leave\n",
      "Judge #8 confirm immigrant #24 \n",
      "Immigrant #24 get certificated\n",
      "Judge #8 leave\n",
      "Immigrant #21 leave\n",
      "^C\n"
     ]
    }
   ],
   "source": [
    "!./Faneuil | head -n 200"
   ]
  },
  {
   "cell_type": "code",
   "execution_count": 134,
   "metadata": {},
   "outputs": [
    {
     "name": "stdout",
     "output_type": "stream",
     "text": [
      "Immigrant #0 enter\n",
      "Immigrant #1 enter\n",
      "Immigrant #0 checkin\n",
      "Immigrant #1 checkin\n",
      "Immigrant #0 sitdown\n",
      "Immigrant #0 swear\n",
      "Immigrant #1 sitdown\n",
      "Immigrant #1 swear\n",
      "Spectator #0 enter\n",
      "Immigrant #2 enter\n",
      "Immigrant #3 enter\n",
      "Judge #0 enter\n",
      "Immigrant #3 checkin\n",
      "Immigrant #3 sitdown\n",
      "Immigrant #3 swear\n",
      "Spectator #0 leave\n",
      "Immigrant #2 checkin\n",
      "Immigrant #2 sitdown\n",
      "Immigrant #2 swear\n",
      "Judge #0 confirm immigrant #0 #1 #2 #3 \n",
      "Immigrant #0 get certificated\n",
      "Immigrant #1 get certificated\n",
      "Immigrant #2 get certificated\n",
      "Immigrant #3 get certificated\n",
      "Judge #0 leave\n",
      "Immigrant #0 leave\n",
      "Immigrant #1 leave\n",
      "Immigrant #4 enter\n",
      "Spectator #1 enter\n",
      "Immigrant #2 leave\n",
      "Immigrant #3 leave\n",
      "Immigrant #5 enter\n",
      "Immigrant #6 enter\n",
      "Judge #1 enter\n",
      "Immigrant #4 checkin\n",
      "Spectator #1 leave\n",
      "Immigrant #6 checkin\n",
      "Immigrant #5 checkin\n",
      "Immigrant #4 sitdown\n",
      "Immigrant #4 swear\n",
      "Immigrant #6 sitdown\n",
      "Immigrant #6 swear\n",
      "Immigrant #5 sitdown\n",
      "Immigrant #5 swear\n",
      "Judge #1 confirm immigrant #4 #5 #6 \n",
      "Immigrant #4 get certificated\n",
      "Immigrant #5 get certificated\n",
      "Immigrant #6 get certificated\n",
      "Judge #1 leave\n",
      "Immigrant #8 enter\n",
      "Spectator #2 enter\n",
      "Spectator #3 enter\n",
      "Immigrant #4 leave\n",
      "Immigrant #7 enter\n",
      "Immigrant #6 leave\n",
      "Immigrant #5 leave\n",
      "Immigrant #8 checkin\n",
      "Judge #2 enter\n",
      "Immigrant #7 checkin\n",
      "Spectator #3 leave\n",
      "Immigrant #8 sitdown\n",
      "Spectator #2 leave\n",
      "Immigrant #8 swear\n",
      "Immigrant #7 sitdown\n",
      "Immigrant #7 swear\n",
      "Judge #2 confirm immigrant #8 #7 \n",
      "Immigrant #8 get certificated\n",
      "Immigrant #7 get certificated\n",
      "Judge #2 leave\n",
      "Immigrant #7 leave\n",
      "Immigrant #8 leave\n",
      "Immigrant #10 enter\n",
      "Immigrant #13 enter\n",
      "Judge #3 enter\n",
      "Immigrant #10 checkin\n",
      "Immigrant #13 checkin\n",
      "Immigrant #10 sitdown\n",
      "Immigrant #10 swear\n",
      "Immigrant #13 sitdown\n",
      "Immigrant #13 swear\n",
      "Judge #3 confirm immigrant #10 #13 \n",
      "Immigrant #10 get certificated\n",
      "Immigrant #13 get certificated\n",
      "Judge #3 leave\n",
      "Immigrant #13 leave\n",
      "Spectator #4 enter\n",
      "Spectator #5 enter\n",
      "Immigrant #9 enter\n",
      "Immigrant #10 leave\n",
      "Immigrant #11 enter\n",
      "Immigrant #12 enter\n",
      "Judge #4 enter\n",
      "Spectator #4 leave\n",
      "Immigrant #11 checkin\n",
      "Immigrant #12 checkin\n",
      "Spectator #5 leave\n",
      "Immigrant #9 checkin\n",
      "Immigrant #11 sitdown\n",
      "Immigrant #11 swear\n",
      "Immigrant #12 sitdown\n",
      "^C\n"
     ]
    }
   ],
   "source": [
    "!./Faneuil | head -n 100"
   ]
  },
  {
   "attachments": {},
   "cell_type": "markdown",
   "metadata": {},
   "source": [
    "#### Correctness Check\n",
    "+ I write a Python program to check whether the synchronization is correct or not"
   ]
  },
  {
   "cell_type": "code",
   "execution_count": 14,
   "metadata": {},
   "outputs": [
    {
     "name": "stdout",
     "output_type": "stream",
     "text": [
      "OK\n"
     ]
    }
   ],
   "source": [
    "#the arg is the timelimit\n",
    "#do not set the timelimit too big, it will crush the memory\n",
    "!python3 test-Faneuil.py 5"
   ]
  }
 ],
 "metadata": {
  "kernelspec": {
   "display_name": "Python 3",
   "language": "python",
   "name": "python3"
  },
  "language_info": {
   "codemirror_mode": {
    "name": "ipython",
    "version": 3
   },
   "file_extension": ".py",
   "mimetype": "text/x-python",
   "name": "python",
   "nbconvert_exporter": "python",
   "pygments_lexer": "ipython3",
   "version": "3.8.10"
  },
  "orig_nbformat": 4
 },
 "nbformat": 4,
 "nbformat_minor": 2
}

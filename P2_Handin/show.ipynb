{
 "cells": [
  {
   "attachments": {},
   "cell_type": "markdown",
   "metadata": {},
   "source": [
    "# <font color=\"skyblue\"> Make </font> "
   ]
  },
  {
   "cell_type": "code",
   "execution_count": 10,
   "metadata": {},
   "outputs": [
    {
     "name": "stdout",
     "output_type": "stream",
     "text": [
      "gcc -O2 -g -Werror LarryCurlyMoe.c -o LCM -lpthread\n",
      "gcc -O2 -g -Werror Faneuil.c -o Faneuil -lpthread\n"
     ]
    }
   ],
   "source": [
    "!make"
   ]
  },
  {
   "cell_type": "code",
   "execution_count": 11,
   "metadata": {},
   "outputs": [
    {
     "name": "stdout",
     "output_type": "stream",
     "text": [
      "rm -rf LCM Faneuil\n"
     ]
    }
   ],
   "source": [
    "!make clean"
   ]
  },
  {
   "attachments": {},
   "cell_type": "markdown",
   "metadata": {},
   "source": [
    "## <font color='SkyBlue'> Task:LCM </font>\n",
    "#### Make and Run"
   ]
  },
  {
   "cell_type": "code",
   "execution_count": 4,
   "metadata": {},
   "outputs": [],
   "source": [
    "!gcc -O2 -g -w LarryCurlyMoe.c -o LCM -lpthread"
   ]
  },
  {
   "cell_type": "code",
   "execution_count": null,
   "metadata": {},
   "outputs": [],
   "source": [
    "!./LCM 10"
   ]
  },
  {
   "attachments": {},
   "cell_type": "markdown",
   "metadata": {},
   "source": [
    "##### Invalid input"
   ]
  },
  {
   "cell_type": "code",
   "execution_count": 2,
   "metadata": {},
   "outputs": [
    {
     "name": "stdout",
     "output_type": "stream",
     "text": [
      "Too few arguments\n",
      "Usage: ./LCM n\n"
     ]
    }
   ],
   "source": [
    "!./LCM"
   ]
  },
  {
   "cell_type": "code",
   "execution_count": 3,
   "metadata": {},
   "outputs": [
    {
     "name": "stdout",
     "output_type": "stream",
     "text": [
      "Too many arguments\n",
      "Usage: ./LCM n\n"
     ]
    }
   ],
   "source": [
    "!./LCM 10 20 abc"
   ]
  },
  {
   "attachments": {},
   "cell_type": "markdown",
   "metadata": {},
   "source": [
    "##### Output too much, just get a glance of it"
   ]
  },
  {
   "cell_type": "code",
   "execution_count": 37,
   "metadata": {},
   "outputs": [
    {
     "name": "stdout",
     "output_type": "stream",
     "text": [
      "Larry digs another hole #1\n",
      "Moe plants a seed in hole#1\n",
      "Curly fills another hole#1\n",
      "Larry digs another hole #2\n",
      "Moe plants a seed in hole#2\n",
      "Larry digs another hole #3\n",
      "Larry digs another hole #4\n",
      "Moe plants a seed in hole#3\n",
      "Curly fills another hole#2\n",
      "Curly fills another hole#3\n",
      "Moe plants a seed in hole#4\n",
      "Curly fills another hole#4\n",
      "Larry digs another hole #5\n",
      "Moe plants a seed in hole#5\n",
      "Curly fills another hole#5\n",
      "Larry digs another hole #6\n",
      "Larry digs another hole #7\n",
      "Larry digs another hole #8\n",
      "Moe plants a seed in hole#6\n",
      "Moe plants a seed in hole#7\n",
      "Curly fills another hole#6\n",
      "Moe plants a seed in hole#8\n",
      "Curly fills another hole#7\n",
      "Curly fills another hole#8\n",
      "Larry digs another hole #9\n",
      "Moe plants a seed in hole#9\n",
      "Curly fills another hole#9\n",
      "Larry digs another hole #10\n",
      "Moe plants a seed in hole#10\n",
      "Larry digs another hole #11\n",
      "Moe plants a seed in hole#11\n",
      "Curly fills another hole#10\n",
      "Larry digs another hole #12\n",
      "Larry digs another hole #13\n",
      "Curly fills another hole#11\n",
      "Moe plants a seed in hole#12\n",
      "Larry digs another hole #14\n",
      "Moe plants a seed in hole#13\n",
      "Moe plants a seed in hole#14\n",
      "Curly fills another hole#12\n",
      "Curly fills another hole#13\n",
      "Larry digs another hole #15\n",
      "Larry digs another hole #16\n",
      "Moe plants a seed in hole#15\n",
      "Moe plants a seed in hole#16\n",
      "Larry digs another hole #17\n",
      "Moe plants a seed in hole#17\n",
      "Larry digs another hole #18\n",
      "Curly fills another hole#14\n",
      "Moe plants a seed in hole#18\n",
      "^C\n"
     ]
    }
   ],
   "source": [
    "!./LCM 10 | head -n 50"
   ]
  },
  {
   "attachments": {},
   "cell_type": "markdown",
   "metadata": {},
   "source": [
    "#### Correctness Check\n",
    "+ I write a Python program to check whether the synchronization is correct or not"
   ]
  },
  {
   "cell_type": "code",
   "execution_count": 10,
   "metadata": {},
   "outputs": [
    {
     "name": "stdout",
     "output_type": "stream",
     "text": [
      "OK\n"
     ]
    }
   ],
   "source": [
    "#first arg is the same as the LCM, the second arg is the timelimit\n",
    "#if the output is right, it will put \"OK\"\n",
    "#otherwise, it will put an assertation failure\n",
    "!python3 test-LCM.py 10 2"
   ]
  },
  {
   "attachments": {},
   "cell_type": "markdown",
   "metadata": {},
   "source": [
    "## <font color='skyblue'>Task:Faneuil</font>\n",
    "#### Make and Run"
   ]
  },
  {
   "cell_type": "code",
   "execution_count": 1,
   "metadata": {},
   "outputs": [],
   "source": [
    "!gcc -O2 -g -w Faneuil.c -o Faneuil -lpthread"
   ]
  },
  {
   "cell_type": "code",
   "execution_count": 2,
   "metadata": {},
   "outputs": [
    {
     "name": "stdout",
     "output_type": "stream",
     "text": [
      "Immigrant #0 enter\n",
      "Immigrant #1 enter\n",
      "Immigrant #3 enter\n",
      "Immigrant #4 enter\n",
      "Immigrant #2 enter\n",
      "Judge #0 enter\n",
      "Immigrant #1 checkin\n",
      "Immigrant #0 checkin\n",
      "Immigrant #4 checkin\n",
      "Immigrant #2 checkin\n",
      "Immigrant #3 checkin\n",
      "Immigrant #1 sitdown\n",
      "Immigrant #1 swear\n",
      "Immigrant #3 sitdown\n",
      "Immigrant #3 swear\n",
      "Immigrant #4 sitdown\n",
      "Immigrant #4 swear\n",
      "Immigrant #2 sitdown\n",
      "Immigrant #2 swear\n",
      "Immigrant #0 sitdown\n",
      "Immigrant #0 swear\n",
      "Judge #0 confirm immigrant #0 #1 #3 #4 #2 \n",
      "Immigrant #3 get certificated\n",
      "Immigrant #4 get certificated\n",
      "Immigrant #1 get certificated\n",
      "Immigrant #0 get certificated\n",
      "Immigrant #2 get certificated\n",
      "Judge #0 leave\n",
      "Immigrant #3 leave\n",
      "Spectator #0 enter\n",
      "Immigrant #4 leave\n",
      "Spectator #1 enter\n",
      "Immigrant #1 leave\n",
      "Immigrant #0 leave\n",
      "Immigrant #2 leave\n",
      "Immigrant #8 enter\n",
      "Immigrant #6 enter\n",
      "Judge #1 enter\n",
      "Spectator #1 leave\n",
      "Spectator #0 leave\n",
      "Immigrant #8 checkin\n",
      "Immigrant #6 checkin\n",
      "Immigrant #8 sitdown\n",
      "Immigrant #8 swear\n",
      "Immigrant #6 sitdown\n",
      "Immigrant #6 swear\n",
      "Judge #1 confirm immigrant #8 #6 \n",
      "Immigrant #8 get certificated\n",
      "Judge #1 leave\n",
      "Immigrant #9 enter\n",
      "Immigrant #7 enter\n",
      "Spectator #3 enter\n",
      "Immigrant #5 enter\n",
      "Spectator #2 enter\n",
      "Immigrant #9 checkin\n",
      "Judge #2 enter\n",
      "Immigrant #6 get certificated\n",
      "Spectator #2 leave\n",
      "Immigrant #5 checkin\n",
      "Immigrant #9 sitdown\n",
      "Immigrant #9 swear\n",
      "Spectator #3 leave\n",
      "Immigrant #7 checkin\n",
      "Immigrant #5 sitdown\n",
      "Immigrant #5 swear\n",
      "Immigrant #7 sitdown\n",
      "Immigrant #7 swear\n",
      "^C\n"
     ]
    }
   ],
   "source": [
    "!./Faneuil"
   ]
  },
  {
   "attachments": {},
   "cell_type": "markdown",
   "metadata": {},
   "source": [
    "##### Invalid Input"
   ]
  },
  {
   "cell_type": "code",
   "execution_count": 7,
   "metadata": {},
   "outputs": [
    {
     "name": "stdout",
     "output_type": "stream",
     "text": [
      "Too many arguments\n",
      "Usage:./Faneuil\n"
     ]
    }
   ],
   "source": [
    "!./Faneuil 5"
   ]
  },
  {
   "attachments": {},
   "cell_type": "markdown",
   "metadata": {},
   "source": [
    "##### Output too much, get a glance of it"
   ]
  },
  {
   "cell_type": "code",
   "execution_count": 3,
   "metadata": {},
   "outputs": [
    {
     "name": "stdout",
     "output_type": "stream",
     "text": [
      "Immigrant #0 enter\n",
      "Immigrant #1 enter\n",
      "Immigrant #2 enter\n",
      "Immigrant #3 enter\n",
      "Immigrant #4 enter\n",
      "Judge #0 enter\n",
      "Immigrant #0 checkin\n",
      "Immigrant #2 checkin\n",
      "Immigrant #3 checkin\n",
      "Immigrant #0 sitdown\n",
      "Immigrant #0 swear\n",
      "Immigrant #4 checkin\n",
      "Immigrant #1 checkin\n",
      "Immigrant #3 sitdown\n",
      "Immigrant #3 swear\n",
      "Immigrant #2 sitdown\n",
      "Immigrant #2 swear\n",
      "Immigrant #1 sitdown\n",
      "Immigrant #1 swear\n",
      "Immigrant #4 sitdown\n",
      "Immigrant #4 swear\n",
      "Judge #0 confirm immigrant #0 #1 #2 #3 #4 \n",
      "Immigrant #2 get certificated\n",
      "Immigrant #3 get certificated\n",
      "Immigrant #0 get certificated\n",
      "Judge #0 leave\n",
      "Spectator #0 enter\n",
      "Immigrant #4 get certificated\n",
      "Spectator #1 enter\n",
      "Immigrant #1 get certificated\n",
      "Immigrant #0 leave\n",
      "Immigrant #4 leave\n",
      "Immigrant #2 leave\n",
      "Spectator #0 leave\n",
      "Immigrant #3 leave\n",
      "Judge #1 enter\n",
      "Spectator #1 leave\n",
      "^C\n"
     ]
    }
   ],
   "source": [
    "!./Faneuil | head -n 200"
   ]
  },
  {
   "cell_type": "code",
   "execution_count": 134,
   "metadata": {},
   "outputs": [
    {
     "name": "stdout",
     "output_type": "stream",
     "text": [
      "Immigrant #0 enter\n",
      "Immigrant #1 enter\n",
      "Immigrant #0 checkin\n",
      "Immigrant #1 checkin\n",
      "Immigrant #0 sitdown\n",
      "Immigrant #0 swear\n",
      "Immigrant #1 sitdown\n",
      "Immigrant #1 swear\n",
      "Spectator #0 enter\n",
      "Immigrant #2 enter\n",
      "Immigrant #3 enter\n",
      "Judge #0 enter\n",
      "Immigrant #3 checkin\n",
      "Immigrant #3 sitdown\n",
      "Immigrant #3 swear\n",
      "Spectator #0 leave\n",
      "Immigrant #2 checkin\n",
      "Immigrant #2 sitdown\n",
      "Immigrant #2 swear\n",
      "Judge #0 confirm immigrant #0 #1 #2 #3 \n",
      "Immigrant #0 get certificated\n",
      "Immigrant #1 get certificated\n",
      "Immigrant #2 get certificated\n",
      "Immigrant #3 get certificated\n",
      "Judge #0 leave\n",
      "Immigrant #0 leave\n",
      "Immigrant #1 leave\n",
      "Immigrant #4 enter\n",
      "Spectator #1 enter\n",
      "Immigrant #2 leave\n",
      "Immigrant #3 leave\n",
      "Immigrant #5 enter\n",
      "Immigrant #6 enter\n",
      "Judge #1 enter\n",
      "Immigrant #4 checkin\n",
      "Spectator #1 leave\n",
      "Immigrant #6 checkin\n",
      "Immigrant #5 checkin\n",
      "Immigrant #4 sitdown\n",
      "Immigrant #4 swear\n",
      "Immigrant #6 sitdown\n",
      "Immigrant #6 swear\n",
      "Immigrant #5 sitdown\n",
      "Immigrant #5 swear\n",
      "Judge #1 confirm immigrant #4 #5 #6 \n",
      "Immigrant #4 get certificated\n",
      "Immigrant #5 get certificated\n",
      "Immigrant #6 get certificated\n",
      "Judge #1 leave\n",
      "Immigrant #8 enter\n",
      "Spectator #2 enter\n",
      "Spectator #3 enter\n",
      "Immigrant #4 leave\n",
      "Immigrant #7 enter\n",
      "Immigrant #6 leave\n",
      "Immigrant #5 leave\n",
      "Immigrant #8 checkin\n",
      "Judge #2 enter\n",
      "Immigrant #7 checkin\n",
      "Spectator #3 leave\n",
      "Immigrant #8 sitdown\n",
      "Spectator #2 leave\n",
      "Immigrant #8 swear\n",
      "Immigrant #7 sitdown\n",
      "Immigrant #7 swear\n",
      "Judge #2 confirm immigrant #8 #7 \n",
      "Immigrant #8 get certificated\n",
      "Immigrant #7 get certificated\n",
      "Judge #2 leave\n",
      "Immigrant #7 leave\n",
      "Immigrant #8 leave\n",
      "Immigrant #10 enter\n",
      "Immigrant #13 enter\n",
      "Judge #3 enter\n",
      "Immigrant #10 checkin\n",
      "Immigrant #13 checkin\n",
      "Immigrant #10 sitdown\n",
      "Immigrant #10 swear\n",
      "Immigrant #13 sitdown\n",
      "Immigrant #13 swear\n",
      "Judge #3 confirm immigrant #10 #13 \n",
      "Immigrant #10 get certificated\n",
      "Immigrant #13 get certificated\n",
      "Judge #3 leave\n",
      "Immigrant #13 leave\n",
      "Spectator #4 enter\n",
      "Spectator #5 enter\n",
      "Immigrant #9 enter\n",
      "Immigrant #10 leave\n",
      "Immigrant #11 enter\n",
      "Immigrant #12 enter\n",
      "Judge #4 enter\n",
      "Spectator #4 leave\n",
      "Immigrant #11 checkin\n",
      "Immigrant #12 checkin\n",
      "Spectator #5 leave\n",
      "Immigrant #9 checkin\n",
      "Immigrant #11 sitdown\n",
      "Immigrant #11 swear\n",
      "Immigrant #12 sitdown\n",
      "^C\n"
     ]
    }
   ],
   "source": [
    "!./Faneuil | head -n 100"
   ]
  },
  {
   "attachments": {},
   "cell_type": "markdown",
   "metadata": {},
   "source": [
    "#### Correctness Check\n",
    "+ I write a Python program to check whether the synchronization is correct or not"
   ]
  },
  {
   "cell_type": "code",
   "execution_count": 14,
   "metadata": {},
   "outputs": [
    {
     "name": "stdout",
     "output_type": "stream",
     "text": [
      "OK\n"
     ]
    }
   ],
   "source": [
    "#the arg is the timelimit\n",
    "#do not set the timelimit too big, it will crush the memory\n",
    "!python3 test-Faneuil.py 5"
   ]
  }
 ],
 "metadata": {
  "kernelspec": {
   "display_name": "Python 3",
   "language": "python",
   "name": "python3"
  },
  "language_info": {
   "codemirror_mode": {
    "name": "ipython",
    "version": 3
   },
   "file_extension": ".py",
   "mimetype": "text/x-python",
   "name": "python",
   "nbconvert_exporter": "python",
   "pygments_lexer": "ipython3",
   "version": "3.10.6"
  },
  "orig_nbformat": 4
 },
 "nbformat": 4,
 "nbformat_minor": 2
}

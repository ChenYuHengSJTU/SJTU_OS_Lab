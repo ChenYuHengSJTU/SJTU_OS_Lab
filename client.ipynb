{
 "cells": [
  {
   "cell_type": "code",
   "execution_count": 2,
   "metadata": {},
   "outputs": [
    {
     "name": "stderr",
     "output_type": "stream",
     "text": [
      "listen from client\n",
      "preparing for another client\n",
      "     34      34     300\n",
      "loop end\n"
     ]
    },
    {
     "name": "stdout",
     "output_type": "stream",
     "text": [
      "send over\n"
     ]
    },
    {
     "name": "stderr",
     "output_type": "stream",
     "text": [
      "listen from client\n",
      "preparing for another client\n",
      "     34      34     300\n",
      "write error: Broken pipe\n",
      "loop end\n"
     ]
    },
    {
     "name": "stdout",
     "output_type": "stream",
     "text": [
      "send over\n"
     ]
    },
    {
     "name": "stderr",
     "output_type": "stream",
     "text": [
      "listen from client\n",
      "preparing for another client\n",
      "     34      34     300\n",
      "write error: Broken pipe\n",
      "loop end\n"
     ]
    },
    {
     "name": "stdout",
     "output_type": "stream",
     "text": [
      "send over\n"
     ]
    },
    {
     "name": "stderr",
     "output_type": "stream",
     "text": [
      "listen from client\n",
      "preparing for another client\n",
      "     34      34     300\n",
      "write error: Broken pipe\n",
      "loop end\n"
     ]
    },
    {
     "name": "stdout",
     "output_type": "stream",
     "text": [
      "send over\n"
     ]
    },
    {
     "name": "stderr",
     "output_type": "stream",
     "text": [
      "listen from client\n",
      "preparing for another client\n",
      "     34      34     300\n",
      "write error: Broken pipe\n",
      "loop end\n"
     ]
    },
    {
     "name": "stdout",
     "output_type": "stream",
     "text": [
      "send over\n"
     ]
    }
   ],
   "source": [
    "import os\n",
    "os.system(\"./shell 8008\")"
   ]
  },
  {
   "cell_type": "code",
   "execution_count": null,
   "metadata": {},
   "outputs": [],
   "source": [
    "import os\n",
    "os.system(\"echo ls | telnet localhost 8000\")"
   ]
  },
  {
   "cell_type": "code",
   "execution_count": null,
   "metadata": {},
   "outputs": [],
   "source": [
    "import os\n",
    "os.system(\"echo ls | telnet localhost 8000\")"
   ]
  }
 ],
 "metadata": {
  "kernelspec": {
   "display_name": "Python 3",
   "language": "python",
   "name": "python3"
  },
  "language_info": {
   "codemirror_mode": {
    "name": "ipython",
    "version": 3
   },
   "file_extension": ".py",
   "mimetype": "text/x-python",
   "name": "python",
   "nbconvert_exporter": "python",
   "pygments_lexer": "ipython3",
   "version": "3.8.10"
  },
  "orig_nbformat": 4,
  "vscode": {
   "interpreter": {
    "hash": "916dbcbb3f70747c44a77c7bcd40155683ae19c65e1c03b4aa3499c5328201f1"
   }
  }
 },
 "nbformat": 4,
 "nbformat_minor": 2
}
